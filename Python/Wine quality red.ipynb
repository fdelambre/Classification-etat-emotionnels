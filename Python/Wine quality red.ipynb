{
 "cells": [
  {
   "cell_type": "markdown",
   "metadata": {},
   "source": [
    "# Wine quality red "
   ]
  },
  {
   "cell_type": "markdown",
   "metadata": {},
   "source": [
    "#### Imports"
   ]
  },
  {
   "cell_type": "code",
   "execution_count": 1,
   "metadata": {
    "collapsed": false,
    "scrolled": true
   },
   "outputs": [],
   "source": [
    "% run outils.py # les fonctions perso et les imports\n",
    "% matplotlib inline"
   ]
  },
  {
   "cell_type": "markdown",
   "metadata": {},
   "source": [
    "#### Utilisation de commandes système"
   ]
  },
  {
   "cell_type": "code",
   "execution_count": 2,
   "metadata": {
    "collapsed": false
   },
   "outputs": [],
   "source": [
    "#!ls"
   ]
  },
  {
   "cell_type": "code",
   "execution_count": 3,
   "metadata": {
    "collapsed": false
   },
   "outputs": [],
   "source": [
    "#!head winequality-red.csv"
   ]
  },
  {
   "cell_type": "markdown",
   "metadata": {},
   "source": [
    "#### Importation des données et premier aperçu"
   ]
  },
  {
   "cell_type": "code",
   "execution_count": 4,
   "metadata": {
    "collapsed": false
   },
   "outputs": [],
   "source": [
    "data = pd.read_csv('./winequality-red.csv', sep = ',')"
   ]
  },
  {
   "cell_type": "code",
   "execution_count": 5,
   "metadata": {
    "collapsed": false
   },
   "outputs": [],
   "source": [
    "#data.head(5)"
   ]
  },
  {
   "cell_type": "markdown",
   "metadata": {},
   "source": [
    "#### Exportation d'une Dataframe au format csv"
   ]
  },
  {
   "cell_type": "code",
   "execution_count": 6,
   "metadata": {
    "collapsed": true
   },
   "outputs": [],
   "source": [
    "#data.head(10).to_csv('premieres_lignes.csv')"
   ]
  },
  {
   "cell_type": "markdown",
   "metadata": {},
   "source": [
    "#### Analyse descriptive des données"
   ]
  },
  {
   "cell_type": "code",
   "execution_count": 7,
   "metadata": {
    "collapsed": false
   },
   "outputs": [],
   "source": [
    "# Modalités de quality\n",
    "#mod_qual = data['quality'].unique()\n",
    "#mod_qual.sort()\n",
    "#print(mod_qual)"
   ]
  },
  {
   "cell_type": "code",
   "execution_count": 8,
   "metadata": {
    "collapsed": false
   },
   "outputs": [],
   "source": [
    "# Distribution des notes\n",
    "#distrib = data['quality'].value_counts()\n",
    "#distrib"
   ]
  },
  {
   "cell_type": "code",
   "execution_count": 9,
   "metadata": {
    "collapsed": false
   },
   "outputs": [],
   "source": [
    "# Valeurs manquantes ?\n",
    "#data.isnull().sum()"
   ]
  },
  {
   "cell_type": "code",
   "execution_count": 10,
   "metadata": {
    "collapsed": false
   },
   "outputs": [],
   "source": [
    "# Doublons ?\n",
    "#data.duplicated().sum()"
   ]
  },
  {
   "cell_type": "code",
   "execution_count": 11,
   "metadata": {
    "collapsed": false
   },
   "outputs": [],
   "source": [
    "# Suppressions des doublons\n",
    "data = data.drop_duplicates()"
   ]
  },
  {
   "cell_type": "code",
   "execution_count": 12,
   "metadata": {
    "collapsed": false
   },
   "outputs": [],
   "source": [
    "# A quelles classes appartiennent les doublons ?\n",
    "#distrib_sans_doublons = data['quality'].value_counts()\n",
    "#distrib - distrib_sans_doublons"
   ]
  },
  {
   "cell_type": "code",
   "execution_count": 13,
   "metadata": {
    "collapsed": false
   },
   "outputs": [],
   "source": [
    "# Nouvelle distribution des classes\n",
    "#distrib_sans_doublons"
   ]
  },
  {
   "cell_type": "code",
   "execution_count": 14,
   "metadata": {
    "collapsed": false
   },
   "outputs": [],
   "source": [
    "# Statistiques descriptives de base\n",
    "#data.describe()"
   ]
  },
  {
   "cell_type": "code",
   "execution_count": 16,
   "metadata": {
    "collapsed": false
   },
   "outputs": [
    {
     "data": {
      "text/plain": [
       "5    577\n",
       "6    535\n",
       "7    167\n",
       "4     53\n",
       "8     17\n",
       "3     10\n",
       "Name: quality, dtype: int64"
      ]
     },
     "execution_count": 16,
     "metadata": {},
     "output_type": "execute_result"
    }
   ],
   "source": [
    "# distribution fréquentielle des classes\n",
    "data['quality'].value_counts()\n",
    "#data['quality'].plot(kind = '')"
   ]
  },
  {
   "cell_type": "code",
   "execution_count": null,
   "metadata": {
    "collapsed": false,
    "scrolled": true
   },
   "outputs": [],
   "source": [
    "# Matrice des corrélations\n",
    "font = {'family' : 'normal',\n",
    "        'weight' : 'bold',\n",
    "        'size'   : 22}\n",
    "\n",
    "plt.rc('font', **font)\n",
    "\n",
    "mat_corr = data.corr().ix['fixed acidity':'alcohol', 'fixed acidity':'alcohol']\n",
    "fig = plt.figure(figsize = (30, 20))\n",
    "ax = fig.add_subplot(111)\n",
    "mask = np.zeros_like(mat_corr)\n",
    "mask[np.triu_indices_from(mask)] = True\n",
    "with sns.axes_style(\"white\"):\n",
    "    sns.heatmap(mat_corr, mask = mask, annot = True, linewidth = 0.5, fmt = '.2f', ax = ax)\n",
    "plt.savefig('matrice_correlations.png')"
   ]
  },
  {
   "cell_type": "markdown",
   "metadata": {},
   "source": [
    "#### Distribution des variables"
   ]
  },
  {
   "cell_type": "code",
   "execution_count": null,
   "metadata": {
    "collapsed": false
   },
   "outputs": [],
   "source": [
    "# Histogrammes des variables\n",
    "#data['quality'].plot(kind = 'hist', bins = 6, width = 0.4, alpha = 0.7)\n",
    "fig = plt.figure(figsize=(15, 10))\n",
    "ax = fig.add_subplot(111)\n",
    "data.hist(ax = ax, alpha = 0.8, grid = True, bins = 30);\n",
    "plt.savefig('./IMAGES/histogrammes_variables')"
   ]
  },
  {
   "cell_type": "code",
   "execution_count": 32,
   "metadata": {
    "collapsed": false
   },
   "outputs": [
    {
     "data": {
      "image/png": "[encoded data removed]",
      "text/plain": [
       "<matplotlib.figure.Figure at 0x11d4bbf60>"
      ]
     },
     "metadata": {},
     "output_type": "display_data"
    }
   ],
   "source": [
    "# Distribution des classes\n",
    "fig = plt.figure()\n",
    "density = fig.add_subplot(111)\n",
    "plt.grid(True)\n",
    "d = data['quality'].value_counts()\n",
    "data2 = (d / sum(d)).sort_index() \n",
    "data2.plot(kind = 'bar')\n",
    "fig.savefig('./IMAGES/distrib_classes_percent.png')"
   ]
  },
  {
   "cell_type": "markdown",
   "metadata": {},
   "source": [
    "#### Centrage-réduction des données"
   ]
  },
  {
   "cell_type": "code",
   "execution_count": null,
   "metadata": {
    "collapsed": false
   },
   "outputs": [],
   "source": [
    "# Centrage-réduction des variables d'entrée\n",
    "liste_var = list(data.columns) # on transforme l'index de la dataframe en liste\n",
    "liste_col = liste_var[:-1] # on ne prend pas la colonne 'quality'\n",
    "nouvel_index = Index(liste_col)\n",
    "X = data[nouvel_index] \n",
    "\n",
    "# On créé une nouvelle matrice de données normées, attention, il faut garder l'index précédent\n",
    "X_norm = DataFrame(StandardScaler().fit_transform(X), columns = liste_col, index = data.index)\n",
    "\n",
    "# On ajoute la dernière colonne\n",
    "data_norm = X_norm.copy()\n",
    "data_norm['quality']= data['quality']\n",
    "\n",
    "data_norm.head(7)\n",
    "#X_norm.head(5)"
   ]
  },
  {
   "cell_type": "markdown",
   "metadata": {},
   "source": [
    "#### Détection des outliers"
   ]
  },
  {
   "cell_type": "code",
   "execution_count": null,
   "metadata": {
    "collapsed": false
   },
   "outputs": [],
   "source": [
    "# Affichage des boxplot : attention la détection des outliers par cette méthode est vouée à l'échec pour les\n",
    "# distributions non normales (ce qui est le cas pour la plupart des variables)\n",
    "# Il faudrait regarder : pH et densité (lois normales)\n",
    "#fig = plt.figure()\n",
    "#ax = fig.add_subplot(111)\n",
    "#X_norm.plot(kind = 'box', figsize = (30, 20), grid = False, ax = ax)"
   ]
  },
  {
   "cell_type": "code",
   "execution_count": null,
   "metadata": {
    "collapsed": false
   },
   "outputs": [],
   "source": [
    "# Affichage des mauvais vins (classes 3 et 4)\n",
    "#data_norm[data_norm['quality'] < 5].head(10)"
   ]
  },
  {
   "cell_type": "markdown",
   "metadata": {},
   "source": [
    "#### Définition des entrées et des sorties"
   ]
  },
  {
   "cell_type": "code",
   "execution_count": null,
   "metadata": {
    "collapsed": false
   },
   "outputs": [],
   "source": [
    "# Rappel :\n",
    "# - X_norm : les entrées normées\n",
    "# - data_norm : les entrées normées avec les colonnes 'quality' \n",
    "\n",
    "# Sortie pour la classification : codage disjonctif des classes\n",
    "y_disjonctif = pd.get_dummies(data['quality'], prefix = 'qual')\n",
    "\n",
    "# Sortie pour la classification : codage ordinal des classes\n",
    "df = codage_ordinal(data_norm, 'quality', 'ord')\n",
    "y_ordinal = df[['ord_3', 'ord_4', 'ord_5', 'ord_6', 'ord_7', 'ord_8']]\n",
    "\n",
    "# Sortie pour la régression : on ne touche à rien\n",
    "y = data_norm['quality']"
   ]
  },
  {
   "cell_type": "markdown",
   "metadata": {},
   "source": [
    "#### Ensembles d'apprentissage et de test"
   ]
  },
  {
   "cell_type": "code",
   "execution_count": null,
   "metadata": {
    "collapsed": true
   },
   "outputs": [],
   "source": [
    "# Définition des ensemble train et test\n",
    "X_train, X_test, y_train, y_test = train_test_split(X_norm, y, test_size=0.33)"
   ]
  },
  {
   "cell_type": "markdown",
   "metadata": {},
   "source": [
    "#### Projection des données par ACP linéaire"
   ]
  },
  {
   "cell_type": "code",
   "execution_count": null,
   "metadata": {
    "collapsed": false
   },
   "outputs": [],
   "source": [
    "#proj_ACP(X_norm, y)"
   ]
  },
  {
   "cell_type": "markdown",
   "metadata": {},
   "source": [
    "#### Analyse en composante principale non linéaire"
   ]
  },
  {
   "cell_type": "code",
   "execution_count": null,
   "metadata": {
    "collapsed": false
   },
   "outputs": [],
   "source": [
    "#kpca = KernelPCA(kernel = \"poly\", gamma = 0.001, n_components = 3)\n",
    "#X_kpca = kpca.fit_transform(X_norm)\n",
    "#X_kpca_proj = DataFrame(X_kpca, columns = ['x', 'y'], index = X_norm.index)\n",
    "#proj(X_kpca_proj, y)"
   ]
  },
  {
   "cell_type": "markdown",
   "metadata": {},
   "source": [
    "#### Analyse discriminante linéaire"
   ]
  },
  {
   "cell_type": "code",
   "execution_count": null,
   "metadata": {
    "collapsed": false
   },
   "outputs": [],
   "source": [
    "proj_AD(X_norm, y)\n",
    "mpl.rcParams['legend.fontsize'] = 30\n",
    "plt.savefig('./IMAGES/projection_AD')"
   ]
  }
 ],
 "metadata": {
  "anaconda-cloud": {},
  "kernelspec": {
   "display_name": "Python [conda root]",
   "language": "python",
   "name": "conda-root-py"
  },
  "language_info": {
   "codemirror_mode": {
    "name": "ipython",
    "version": 3
   },
   "file_extension": ".py",
   "mimetype": "text/x-python",
   "name": "python",
   "nbconvert_exporter": "python",
   "pygments_lexer": "ipython3",
   "version": "3.5.2"
  }
 },
 "nbformat": 4,
 "nbformat_minor": 0
}
